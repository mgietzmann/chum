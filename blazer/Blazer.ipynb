{
 "cells": [
  {
   "cell_type": "code",
   "execution_count": 240,
   "metadata": {},
   "outputs": [],
   "source": [
    "import os\n",
    "import openai\n",
    "\n",
    "os.environ[\"OPENAI_API_KEY\"] = #\n",
    "openai.api_key = os.environ[\"OPENAI_API_KEY\"]\n",
    "\n",
    "from llama_index import (\n",
    "    load_index_from_storage, SimpleDirectoryReader, StorageContext, \n",
    "    ServiceContext, GPTVectorStoreIndex, LLMPredictor, PromptHelper\n",
    ")\n",
    "from langchain import OpenAI\n",
    "import os\n",
    "from tqdm import tqdm\n",
    "import shutil"
   ]
  },
  {
   "cell_type": "code",
   "execution_count": 241,
   "metadata": {},
   "outputs": [],
   "source": [
    "def create_index(file_path, file='doc.pdf'):\n",
    "    if os.path.exists('tmp_index'):\n",
    "        shutil.rmtree('tmp_index')\n",
    "    os.mkdir('tmp_index')\n",
    "\n",
    "    with open(file_path, 'rb') as f:\n",
    "        with open(f'tmp_index/{file}', 'wb') as f2:\n",
    "            f2.write(f.read())\n",
    "\n",
    "    # set maximum input size\n",
    "    max_input_size = 4096\n",
    "    # set number of output tokens\n",
    "    num_outputs = 256\n",
    "    # set maximum chunk overlap\n",
    "    chunk_overlap_ratio = 0.1\n",
    "    # set chunk size limit\n",
    "    chunk_size_limit = 600\n",
    "\n",
    "    # define LLM\n",
    "    llm_predictor = LLMPredictor(llm=OpenAI(temperature=0, model_name=\"text-davinci-003\", max_tokens=num_outputs))\n",
    "    prompt_helper = PromptHelper(max_input_size, num_outputs, chunk_overlap_ratio, chunk_size_limit=chunk_size_limit)\n",
    "\n",
    "    documents = SimpleDirectoryReader('tmp_index').load_data()\n",
    "\n",
    "    index = GPTVectorStoreIndex(\n",
    "        documents, llm_predictor=llm_predictor, prompt_helper=prompt_helper\n",
    "    )\n",
    "\n",
    "    index.storage_context.persist('tmp_index/index')\n",
    "\n",
    "    return index"
   ]
  },
  {
   "cell_type": "code",
   "execution_count": 242,
   "metadata": {},
   "outputs": [
    {
     "name": "stderr",
     "output_type": "stream",
     "text": [
      "100%|██████████| 18/18 [09:09<00:00, 30.51s/it]\n"
     ]
    }
   ],
   "source": [
    "base_thought = \"\"\"\n",
    "    I'd like you to help me identify specific issues in the present assessment and how they could be resolved using better\n",
    "    instrumentation and data. Include such things as requested updates to reduce bias, reduce uncertainty, or improve accuracy. \n",
    "    If there are specific unknowns or missing features that currently hamper the quality or capabilities of the assessment include\n",
    "    those as well. Also determine if there are outcomes that are just impossible to determine with the present data\n",
    "    that the authors believe would be beneficial for management of the fishery. Please format the document as follows:\n",
    "\n",
    "    Instrumentation to improve the quality of the assessment of the <stock name> stock\n",
    "\n",
    "    <Issue>\n",
    "    - Specification: <To remove any uncertainty about what the issue is>\n",
    "    - Evidence: <The data that supports this actually being an issue>\n",
    "    - Resolution: <A resolution in the form of new data or improvement to current data - be specific>\n",
    "    - Impact: <The impact that this resolution would have on the assessment outcomes>\n",
    "\n",
    "    Please give me the top 10 issues identified.\n",
    "\"\"\"\n",
    "\n",
    "for path in tqdm(os.listdir('chatbot_data')):\n",
    "    if not path.endswith('.pdf'):\n",
    "        continue\n",
    "    file_path = os.path.join('chatbot_data', path)\n",
    "    create_index(file_path)\n",
    "    service_context = ServiceContext.from_defaults(chunk_size=512)\n",
    "    storage_context = StorageContext.from_defaults(persist_dir=f\"tmp_index/index\")\n",
    "    index = load_index_from_storage(storage_context, service_context=service_context).as_query_engine()\n",
    "    index_response = index.query(base_thought).response\n",
    "    report_path = os.path.join(\"reports\", f\"{file_path.split('/')[-1].split('.')[0]}_report.txt\")\n",
    "    with open(report_path, 'w') as fh:\n",
    "        fh.write(index_response)\n"
   ]
  },
  {
   "cell_type": "code",
   "execution_count": null,
   "metadata": {},
   "outputs": [],
   "source": []
  }
 ],
 "metadata": {
  "kernelspec": {
   "display_name": "Python 3",
   "language": "python",
   "name": "python3"
  },
  "language_info": {
   "codemirror_mode": {
    "name": "ipython",
    "version": 3
   },
   "file_extension": ".py",
   "mimetype": "text/x-python",
   "name": "python",
   "nbconvert_exporter": "python",
   "pygments_lexer": "ipython3",
   "version": "3.10.12"
  }
 },
 "nbformat": 4,
 "nbformat_minor": 2
}
